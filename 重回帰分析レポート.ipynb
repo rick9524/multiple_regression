{
 "cells": [
  {
   "cell_type": "code",
   "execution_count": null,
   "metadata": {},
   "outputs": [],
   "source": []
  }
 ],
 "metadata": {
  "kernelspec": {
   "display_name": "base",
   "language": "python",
   "name": "python3"
  },
  "language_info": {
   "name": "python",
   "version": "3.9.15 (main, Nov 23 2022, 09:27:34) [MSC v.1916 64 bit (AMD64)]"
  },
  "orig_nbformat": 4,
  "vscode": {
   "interpreter": {
    "hash": "5781dd828d17d04f68f2aa82c0b0ff6a51cb9efd7b800caaa05e183a6e5d7925"
   }
  }
 },
 "nbformat": 4,
 "nbformat_minor": 2
}
